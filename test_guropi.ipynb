{
 "cells": [
  {
   "cell_type": "code",
   "execution_count": 23,
   "metadata": {},
   "outputs": [
    {
     "name": "stdout",
     "output_type": "stream",
     "text": [
      "Gurobi Optimizer version 12.0.1 build v12.0.1rc0 (win64 - Windows 10.0 (19045.2))\n",
      "\n",
      "CPU model: Intel(R) Core(TM) i5-10200H CPU @ 2.40GHz, instruction set [SSE2|AVX|AVX2]\n",
      "Thread count: 4 physical cores, 8 logical processors, using up to 8 threads\n",
      "\n",
      "Optimize a model with 14 rows, 10 columns and 48 nonzeros\n",
      "Model fingerprint: 0x61175e3e\n",
      "Variable types: 0 continuous, 10 integer (10 binary)\n",
      "Coefficient statistics:\n",
      "  Matrix range     [1e+00, 1e+00]\n",
      "  Objective range  [1e+00, 1e+00]\n",
      "  Bounds range     [1e+00, 1e+00]\n",
      "  RHS range        [1e+00, 5e+00]\n",
      "Presolve removed 14 rows and 10 columns\n",
      "Presolve time: 0.00s\n",
      "Presolve: All rows and columns removed\n",
      "\n",
      "Explored 0 nodes (0 simplex iterations) in 0.01 seconds (0.00 work units)\n",
      "Thread count was 1 (of 8 available processors)\n",
      "\n",
      "Solution count 1: 5 \n",
      "\n",
      "Optimal solution found (tolerance 1.00e-04)\n",
      "Best objective 5.000000000000e+00, best bound 5.000000000000e+00, gap 0.0000%\n",
      "Optimal solution: [0, 2, 4, 7, 9]\n"
     ]
    }
   ],
   "source": [
    "import gurobipy as gp\n",
    "from gurobipy import GRB\n",
    "\n",
    "def solve_linear_program(n, E, k, color_constraints, color_sets):\n",
    "    # 创建一个模型\n",
    "    model = gp.Model(\"max_independent_set\")\n",
    "\n",
    "    # 添加变量\n",
    "    x = model.addVars(n, vtype=GRB.BINARY, name=\"x\")\n",
    "\n",
    "    # 目标函数 (3.1)\n",
    "    model.setObjective(gp.quicksum(x[i] for i in range(n)), GRB.MAXIMIZE)\n",
    "\n",
    "    # 约束 (3.2) 相邻节点不能同时被选中\n",
    "    for (i, j) in E:\n",
    "        model.addConstr(x[i] + x[j] <= 1, f\"edge_{i}_{j}\")\n",
    "\n",
    "    # 约束 (3.3) 选中的节点数不能超过 k\n",
    "    model.addConstr(gp.quicksum(x[i] for i in range(n)) <= k, \"max_selection\")\n",
    "\n",
    "    # 约束 (3.4) 颜色类的上下界约束\n",
    "    for c, (l_c, h_c) in color_constraints.items():\n",
    "        model.addConstr(gp.quicksum(x[i] for i in color_sets[c]) >= l_c, f\"lb_color_{c}\")\n",
    "        model.addConstr(gp.quicksum(x[i] for i in color_sets[c]) <= h_c, f\"ub_color_{c}\")\n",
    "\n",
    "    # 约束 (3.5) x_i 是二元变量\n",
    "    # 这已经在定义变量时使用 vtype=GRB.BINARY 自动包含了。\n",
    "\n",
    "    # 求解模型\n",
    "    model.optimize()\n",
    "\n",
    "    # 输出结果\n",
    "    if model.status == GRB.OPTIMAL:\n",
    "        selected_nodes = [i for i in range(n) if x[i].x > 0.5]\n",
    "        print(f\"Optimal solution: {selected_nodes}\")\n",
    "    else:\n",
    "        print(\"No optimal solution found.\")\n",
    "\n",
    "# 示例参数\n",
    "n = 10  # 节点数量\n",
    "E = [(0, 1), (1, 2), (2, 3), (3, 4), (4, 5), (5, 6), (6, 7), (7, 8), (8, 9)]  # 边集\n",
    "k = 5  # 最多选中5个节点\n",
    "color_constraints = {0: (1, 3), 1: (1, 3)}  # 每个颜色类的上下界\n",
    "color_sets = {0: [0, 1, 2, 3, 4], 1: [5, 6, 7, 8, 9]}  # 节点的颜色分配\n",
    "\n",
    "# 求解线性规划\n",
    "solve_linear_program(n, E, k, color_constraints, color_sets)"
   ]
  },
  {
   "cell_type": "code",
   "execution_count": null,
   "metadata": {},
   "outputs": [],
   "source": []
  }
 ],
 "metadata": {
  "kernelspec": {
   "display_name": "coresets",
   "language": "python",
   "name": "python3"
  },
  "language_info": {
   "codemirror_mode": {
    "name": "ipython",
    "version": 3
   },
   "file_extension": ".py",
   "mimetype": "text/x-python",
   "name": "python",
   "nbconvert_exporter": "python",
   "pygments_lexer": "ipython3",
   "version": "3.9.19"
  }
 },
 "nbformat": 4,
 "nbformat_minor": 2
}
