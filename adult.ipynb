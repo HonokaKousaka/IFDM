{
 "cells": [
  {
   "cell_type": "code",
   "execution_count": 465,
   "metadata": {},
   "outputs": [],
   "source": [
    "import numpy as np\n",
    "import random\n",
    "import gurobipy as gp\n",
    "from gurobipy import GRB"
   ]
  },
  {
   "cell_type": "code",
   "execution_count": 466,
   "metadata": {},
   "outputs": [],
   "source": [
    "def MaxMinDiversity(subset: np.ndarray, complete: np.ndarray) -> float:\n",
    "    \"\"\"\n",
    "    Calculate Max-Min Diversity, the minimum distance between all pairs of points in the given subset.\n",
    "    \n",
    "    Parameters:\n",
    "        subset: Subset of points\n",
    "        complete: Complete graph adjacency matrix containing distances between all pairs of points\n",
    "    \n",
    "    Returns:\n",
    "        min_dist: Max-Min Diversity, the minimum distance between all pairs of points in the subset\n",
    "    \"\"\"\n",
    "    if len(subset) < 2:\n",
    "        return 0\n",
    "    \n",
    "    n = len(subset)\n",
    "    min_dist = float('inf')\n",
    "    \n",
    "    for i in range(n):\n",
    "        for j in range(i + 1, n):\n",
    "            dist = complete[subset[i]][subset[j]]\n",
    "            min_dist = min(min_dist, dist)\n",
    "    \n",
    "    return min_dist"
   ]
  },
  {
   "cell_type": "code",
   "execution_count": 467,
   "metadata": {},
   "outputs": [],
   "source": [
    "def FairRadius(k: int, complete: np.ndarray) -> np.ndarray:\n",
    "    \"\"\"\n",
    "    Calculate Fair Radius for all points in the dataset.\n",
    "\n",
    "    Parameters:\n",
    "        k: Integer parameter k, used to calculate minimum number of points each point needs to cover ⌈n/k⌉\n",
    "        complete: Complete graph adjacency matrix representing distances between all pairs of points\n",
    "        \n",
    "    Returns:\n",
    "        fair_radius: Fair Radius for all points in the dataset\n",
    "    \"\"\"\n",
    "    n = complete.shape[0]\n",
    "    min_points = int(np.ceil(n / k))\n",
    "    fair_radius = []\n",
    "\n",
    "    for i in range(n):\n",
    "        distances = complete[i]\n",
    "        sorted_distances = np.sort(distances)\n",
    "        point_radius = sorted_distances[min_points-1]\n",
    "        fair_radius.append(point_radius)\n",
    "        \n",
    "    return np.array(fair_radius)\n"
   ]
  },
  {
   "cell_type": "code",
   "execution_count": 468,
   "metadata": {},
   "outputs": [],
   "source": [
    "def CriticalRegion(alpha: float, fair_radius: np.ndarray, complete: np.ndarray) -> tuple[np.ndarray, dict]:\n",
    "    \"\"\"\n",
    "    Generate the Critical Regions by finding a set of centers that cover all points.\n",
    "    \n",
    "    Parameters:\n",
    "        alpha: Fairness parameter\n",
    "        fair_radius: Array containing fair radius values for all points\n",
    "        complete: Complete graph adjacency matrix representing distances between all pairs of points\n",
    "        \n",
    "    Returns:\n",
    "        selected_centers: Centers of critical regions\n",
    "        critical_regions: Dictionary mapping each center to its covered points\n",
    "    \"\"\"\n",
    "    covered_points = set()\n",
    "    n = len(fair_radius)\n",
    "    points = set(range(n))\n",
    "    selected_centers = []\n",
    "    critical_regions = {}\n",
    "\n",
    "    while covered_points != points:\n",
    "        minus = points - covered_points\n",
    "        c = min(minus, key=lambda x: fair_radius[x])\n",
    "        selected_centers.append(c)\n",
    "        for point in minus:\n",
    "            if complete[point][c] <= 2 * alpha * fair_radius[point]:\n",
    "                covered_points.add(point)\n",
    "    selected_centers = np.array(selected_centers)\n",
    "    print(covered_points)\n",
    "\n",
    "    for center in selected_centers:\n",
    "        r_c = fair_radius[center]\n",
    "        distances = complete[center]\n",
    "        points_in_circle = np.array([i for i, dist in enumerate(distances) if dist <= alpha * r_c])\n",
    "        critical_regions[center] = points_in_circle\n",
    "\n",
    "    return selected_centers, critical_regions\n"
   ]
  },
  {
   "cell_type": "code",
   "execution_count": 469,
   "metadata": {},
   "outputs": [],
   "source": [
    "def IFDM(k: int, complete: np.ndarray, epsilon: float, beta: float, selected_centers: np.ndarray, critical_regions: dict) -> tuple[np.ndarray, tuple[tuple[np.ndarray, int], ...], np.ndarray, dict]:\n",
    "    \"\"\"\n",
    "    Construct an instance of k-clustering under partition matroid constraint corresponding to the given instance of alpha-fair k-clustering.\n",
    "    \n",
    "    Parameters:\n",
    "        k: Target number of clusters\n",
    "        alpha: Fairness parameter\n",
    "        complete: Complete graph adjacency matrix with distances\n",
    "        epsilon: Accuracy parameter (< 1/2)\n",
    "        beta: Approximation guarantee parameter (≤ 1)\n",
    "        selected_centers: Centers of critical regions\n",
    "        critical_regions: Dictionary mapping centers to covered points\n",
    "        \n",
    "    Returns:\n",
    "        P_prime: Augmented point set with duplicated points\n",
    "        centers_info: Tuple containing center selection info\n",
    "        d_prime: Modified graph adjacency matrix with distances\n",
    "        corresponding: The dictionary for getting the corresponding point in originial data\n",
    "    \"\"\"\n",
    "    n = complete.shape[0]\n",
    "    P_0 = list(range(n))\n",
    "    P_1 = list(range(n))\n",
    "    current_max_id = n\n",
    "    \n",
    "    B_copies = {}\n",
    "    corresponding = {}\n",
    "    for center in selected_centers:\n",
    "        copies = []\n",
    "        for point in critical_regions[center]:\n",
    "            corresponding[current_max_id] = point\n",
    "            copies.append(current_max_id)\n",
    "            P_1.append(point)\n",
    "            current_max_id += 1\n",
    "        B_copies[center] = np.array(copies)\n",
    "\n",
    "    P_prime = np.arange(current_max_id)\n",
    "    \n",
    "    k_i = {center: 1 for center in selected_centers}\n",
    "    \n",
    "    k_0 = k - len(selected_centers)\n",
    "\n",
    "    delta = np.min(complete[complete > 0])\n",
    "\n",
    "    n_prime = len(P_prime)\n",
    "    d_prime = np.zeros((n_prime, n_prime))\n",
    "\n",
    "    for i in range(n_prime):\n",
    "        for j in range(n_prime):\n",
    "            if i == j:\n",
    "                d_prime[i][j] = 0\n",
    "            elif P_1[i] != P_1[j]:\n",
    "                d_prime[i][j] = round(complete[P_1[i]][P_1[j]], 10)\n",
    "            else:\n",
    "                d_prime[i][j] = round(epsilon * beta * delta, 10)\n",
    "                \n",
    "    return P_prime, ((P_0, k_0), *((B_copies[c], k_i[c]) for c in selected_centers)), d_prime, corresponding\n"
   ]
  },
  {
   "cell_type": "code",
   "execution_count": 470,
   "metadata": {},
   "outputs": [],
   "source": [
    "def distancePS(centerSet: np.ndarray, i: int, complete: np.ndarray) -> float:\n",
    "    \"\"\"\n",
    "    Returns the distance between a certain point and a certain set.\n",
    "    \n",
    "    Parameters:\n",
    "        centerSet: A numpy array containing confirmed center indexes\n",
    "        i: The index of any point\n",
    "        complete : Complete graph adjacency matrix containing distances between all pairs of points\n",
    "    \n",
    "    Returns:\n",
    "        min_distance: The distance between point and center set\n",
    "    \"\"\"\n",
    "    min_distance = float(\"inf\")\n",
    "    for center in centerSet:\n",
    "        distance = complete[center][i]\n",
    "        if (distance < min_distance):\n",
    "            min_distance = distance\n",
    "    \n",
    "    return min_distance"
   ]
  },
  {
   "cell_type": "code",
   "execution_count": 471,
   "metadata": {},
   "outputs": [],
   "source": [
    "def GMM(points_index: np.ndarray, k: int, complete: np.ndarray) -> np.ndarray:\n",
    "    \"\"\"\n",
    "    Returns indexes of k centers after running GMM Algorithm.\n",
    "    \n",
    "    Parameters: \n",
    "        points_index: The indexes of data\n",
    "        k: A decimal integer, the number of centers\n",
    "        complete: Complete graph adjacency matrix containing distances between all pairs of points\n",
    "        initial: An initial set of elements\n",
    "    \n",
    "    Returns:\n",
    "        centers: A numpy array with k indexes as center point indexes\n",
    "    \"\"\"\n",
    "    centers = []\n",
    "    initial_point_index = random.choice(points_index)\n",
    "    centers.append(initial_point_index)\n",
    "    while (len(centers) < k):\n",
    "        max_distance = 0\n",
    "        max_distance_vector_index = None\n",
    "        for i in points_index:\n",
    "            distance = distancePS(centers, i, complete)\n",
    "            if distance > max_distance:\n",
    "                max_distance = distance\n",
    "                max_distance_vector_index = i\n",
    "        centers.append(max_distance_vector_index)\n",
    "    centers = np.array(centers)\n",
    "\n",
    "    return centers"
   ]
  },
  {
   "cell_type": "code",
   "execution_count": 472,
   "metadata": {},
   "outputs": [],
   "source": [
    "def ILP(n, E, k, color_constraints, color_sets):\n",
    "    \"\"\"\n",
    "    Returns an ILP solution for FMMD-S.\n",
    "    \n",
    "    Parameters:\n",
    "        n: The number of points\n",
    "        E: The undirected graph generated by FMMD-S\n",
    "        k: A decimal integer, the number of centers \n",
    "        color_constraints: The groups that the data are divided into\n",
    "        color_sets: The points in different groups\n",
    "    \n",
    "    Returns:\n",
    "        selected_nodes: A numpy array containing selected elements that maximize the minimum pairwise distance    \n",
    "    \"\"\"\n",
    "    model = gp.Model(\"ILP\")\n",
    "\n",
    "    x = model.addVars(n, vtype=GRB.BINARY, name=\"x\")\n",
    "\n",
    "    model.setObjective(gp.quicksum(x[i] for i in range(n)), GRB.MAXIMIZE)\n",
    "\n",
    "    eid = 0\n",
    "    for e in E:\n",
    "        model.addConstr(x[e[0]] + x[e[1]] <= 1, f\"edge_{str(eid)}\")\n",
    "        eid += 1\n",
    "\n",
    "    model.addConstr(gp.quicksum(x[i] for i in range(n)) <= k, \"max_selection\")\n",
    "\n",
    "    for c, number in color_constraints.items():\n",
    "        nodes_in_color = color_sets[c]\n",
    "        if number > 1:\n",
    "            model.addConstr(gp.quicksum(x[i] for i in nodes_in_color) <= number, f\"number_color_{c}\")\n",
    "        else:\n",
    "            model.addConstr(gp.quicksum(x[i] for i in nodes_in_color) == number, f\"number_color_{c}\")\n",
    "\n",
    "    model.optimize()\n",
    "\n",
    "    if model.status == GRB.OPTIMAL:\n",
    "        selected_nodes = np.array([i for i in range(n) if x[i].x > 0.5])\n",
    "        return selected_nodes\n",
    "    else:\n",
    "        raise ValueError(\"No optimal solution found.\")\n",
    "        "
   ]
  },
  {
   "cell_type": "code",
   "execution_count": 473,
   "metadata": {},
   "outputs": [],
   "source": [
    "def FMMDS(sets: tuple, k: int, error: float, complete: np.ndarray) -> np.ndarray:\n",
    "    \"\"\"\n",
    "    Returns a subset with high Max-min diversity under partition matroid constraint.\n",
    "    \n",
    "    Parameters:\n",
    "        sets: A tuple containing partitioned sets returned by IFDM function\n",
    "        k: A decimal integer, the number of elements to be selected\n",
    "        error: A float number indicating the error parameter\n",
    "        complete: Complete graph adjacency matrix containing distances between all pairs of points\n",
    "    \n",
    "    Returns:\n",
    "        solution: A numpy array containing selected elements that maximize the minimum pairwise distance\n",
    "    \"\"\"\n",
    "    amount = complete.shape[0]\n",
    "    complete_array = np.arange(amount)\n",
    "    U_gmm = GMM(complete_array, k, complete)\n",
    "    critical_number = len(sets)\n",
    "    U_c = []\n",
    "    for i in range(critical_number):\n",
    "        intersection = np.intersect1d(sets[i][0], U_gmm)\n",
    "        if len(intersection) > 0:\n",
    "            U_c.append(intersection)\n",
    "        else:\n",
    "            random_element = np.random.choice(sets[i][0])\n",
    "            U_c.append(np.array([random_element]))\n",
    "            \n",
    "    distance_p = 2 * MaxMinDiversity(U_gmm, complete)\n",
    "    print(\"distance_p:\", distance_p)\n",
    "\n",
    "    S = []\n",
    "    while len(S) == 0:\n",
    "        for c in range(critical_number):  \n",
    "            max_div_uc_v = 0\n",
    "            for v in sets[c][0]:\n",
    "                new_div_uc_v = MaxMinDiversity(np.union1d(U_c[c], [v]), complete)\n",
    "                if new_div_uc_v > max_div_uc_v:\n",
    "                    max_div_uc_v = new_div_uc_v\n",
    "            print(max_div_uc_v)\n",
    "            print(distance_p)\n",
    "            while len(U_c[c]) < k and max_div_uc_v >= distance_p:\n",
    "                max_distance = 0\n",
    "                max_distance_vector_index = 0\n",
    "                for i in sets[c][0]:\n",
    "                    distance = distancePS(U_c[c], i, complete)\n",
    "                    if distance > max_distance:\n",
    "                        max_distance = distance\n",
    "                        max_distance_vector_index = i\n",
    "                U_c[c] = np.append(U_c[c], max_distance_vector_index)\n",
    "\n",
    "        V_p = np.concatenate(U_c)\n",
    "        index2V_p = dict()\n",
    "        V_p2index = dict()\n",
    "        for index, point in enumerate(V_p):\n",
    "            index2V_p[index] = point\n",
    "            V_p2index[point] = index\n",
    "\n",
    "        E = []\n",
    "        for i in range(len(V_p)):\n",
    "             for j in range(i + 1, len(V_p)):\n",
    "                  print(\"complete:\", complete[V_p[i]][V_p[j]])\n",
    "                  if complete[V_p[i]][V_p[j]] < distance_p / 2:\n",
    "                       \n",
    "                       E.append((i, j))\n",
    "        print(E)\n",
    "\n",
    "        color_constraints = dict()\n",
    "        color_sets = dict()\n",
    "        for group in range(critical_number):\n",
    "            color_constraints[group] = sets[group][1]\n",
    "            color_sets_original = np.intersect1d(sets[group][0], V_p)\n",
    "            color_sets_ilp = []\n",
    "            for point in color_sets_original:\n",
    "                color_sets_ilp.append(V_p2index[point])\n",
    "                print(color_sets_ilp)\n",
    "            color_sets[group] = np.array(color_sets_ilp)\n",
    "            \n",
    "        print(color_constraints)\n",
    "        print(color_sets)\n",
    "\n",
    "        solution = ILP(len(V_p), E, k, color_constraints, color_sets)\n",
    "        if len(solution) < k:\n",
    "             distance_p = (1 - error) * distance_p\n",
    "        else:\n",
    "             S = solution\n",
    "\n",
    "    for i in range(len(S)):\n",
    "        S[i] = index2V_p[i]\n",
    "    \n",
    "    return S"
   ]
  },
  {
   "cell_type": "code",
   "execution_count": 474,
   "metadata": {},
   "outputs": [],
   "source": [
    "def SOL(S: np.ndarray, corresponding: dict, complete: np.ndarray) -> np.ndarray:\n",
    "    \"\"\"\n",
    "    Returns a np.ndarray with high Max-min diversity in the original data.\n",
    "    \n",
    "    Parameters:\n",
    "        S: The solution from FMMDS\n",
    "        corresponding: The dictionary for getting the corresponding point in originial data\n",
    "        complete: Complete graph adjacency matrix containing distances between all pairs of points\n",
    "    \n",
    "    Returns:\n",
    "        solution: A numpy array containing selected elements that maximize the minimum pairwise distance\n",
    "    \"\"\"\n",
    "    solution = []\n",
    "    for point in S:\n",
    "        if point < complete.shape[0]:\n",
    "            solution.append(point)\n",
    "        elif corresponding[point] not in solution:\n",
    "            solution.append(corresponding[point])\n",
    "        else:\n",
    "            continue\n",
    "    solution = np.array(solution)\n",
    "\n",
    "    return solution"
   ]
  },
  {
   "cell_type": "code",
   "execution_count": 475,
   "metadata": {},
   "outputs": [],
   "source": [
    "def Examine(complete: np.ndarray, solution: np.ndarray, fair_radius: np.ndarray, alpha: float, gamma: float) -> bool:\n",
    "    \n",
    "    points = np.arange(complete.shape[0])\n",
    "    for point in points:\n",
    "        if distancePS(solution, point, complete) > alpha * gamma * fair_radius[point]:\n",
    "            return False\n",
    "    \n",
    "    return True"
   ]
  },
  {
   "cell_type": "code",
   "execution_count": 476,
   "metadata": {},
   "outputs": [
    {
     "data": {
      "text/plain": [
       "array([[0.        , 0.03521865, 0.0360143 , ..., 0.03676195, 0.03358565,\n",
       "        0.037072  ],\n",
       "       [0.03521865, 0.        , 0.03164265, ..., 0.03761507, 0.02821316,\n",
       "        0.03421197],\n",
       "       [0.0360143 , 0.03164265, 0.        , ..., 0.02900964, 0.00482017,\n",
       "        0.0067394 ],\n",
       "       ...,\n",
       "       [0.03676195, 0.03761507, 0.02900964, ..., 0.        , 0.02602977,\n",
       "        0.03397402],\n",
       "       [0.03358565, 0.02821316, 0.00482017, ..., 0.02602977, 0.        ,\n",
       "        0.00952895],\n",
       "       [0.037072  , 0.03421197, 0.0067394 , ..., 0.03397402, 0.00952895,\n",
       "        0.        ]])"
      ]
     },
     "execution_count": 476,
     "metadata": {},
     "output_type": "execute_result"
    }
   ],
   "source": [
    "complete = np.load(\"dataset/adult_complete.npy\")\n",
    "complete"
   ]
  },
  {
   "cell_type": "code",
   "execution_count": 477,
   "metadata": {},
   "outputs": [
    {
     "data": {
      "text/plain": [
       "1000"
      ]
     },
     "execution_count": 477,
     "metadata": {},
     "output_type": "execute_result"
    }
   ],
   "source": [
    "complete.shape[0]"
   ]
  },
  {
   "cell_type": "code",
   "execution_count": 478,
   "metadata": {},
   "outputs": [
    {
     "data": {
      "text/plain": [
       "1000"
      ]
     },
     "execution_count": 478,
     "metadata": {},
     "output_type": "execute_result"
    }
   ],
   "source": [
    "len(complete)"
   ]
  },
  {
   "cell_type": "code",
   "execution_count": 479,
   "metadata": {},
   "outputs": [],
   "source": [
    "K = 5\n",
    "alpha = 1"
   ]
  },
  {
   "cell_type": "code",
   "execution_count": 480,
   "metadata": {},
   "outputs": [],
   "source": [
    "b = GMM(np.arange(1000), K, complete)"
   ]
  },
  {
   "cell_type": "code",
   "execution_count": 481,
   "metadata": {},
   "outputs": [
    {
     "data": {
      "text/plain": [
       "0.12642977654948243"
      ]
     },
     "execution_count": 481,
     "metadata": {},
     "output_type": "execute_result"
    }
   ],
   "source": [
    "MaxMinDiversity(b, complete)"
   ]
  },
  {
   "cell_type": "code",
   "execution_count": 482,
   "metadata": {},
   "outputs": [],
   "source": [
    "fairradius = FairRadius(K, complete)\n",
    "# fairradius"
   ]
  },
  {
   "cell_type": "code",
   "execution_count": 483,
   "metadata": {},
   "outputs": [
    {
     "name": "stdout",
     "output_type": "stream",
     "text": [
      "{0, 1, 2, 3, 4, 5, 6, 7, 8, 9, 10, 11, 12, 13, 14, 15, 16, 17, 18, 19, 20, 21, 22, 23, 24, 25, 26, 27, 28, 29, 30, 31, 32, 33, 34, 35, 36, 37, 38, 39, 40, 41, 42, 43, 44, 45, 46, 47, 48, 49, 50, 51, 52, 53, 54, 55, 56, 57, 58, 59, 60, 61, 62, 63, 64, 65, 66, 67, 68, 69, 70, 71, 72, 73, 74, 75, 76, 77, 78, 79, 80, 81, 82, 83, 84, 85, 86, 87, 88, 89, 90, 91, 92, 93, 94, 95, 96, 97, 98, 99, 100, 101, 102, 103, 104, 105, 106, 107, 108, 109, 110, 111, 112, 113, 114, 115, 116, 117, 118, 119, 120, 121, 122, 123, 124, 125, 126, 127, 128, 129, 130, 131, 132, 133, 134, 135, 136, 137, 138, 139, 140, 141, 142, 143, 144, 145, 146, 147, 148, 149, 150, 151, 152, 153, 154, 155, 156, 157, 158, 159, 160, 161, 162, 163, 164, 165, 166, 167, 168, 169, 170, 171, 172, 173, 174, 175, 176, 177, 178, 179, 180, 181, 182, 183, 184, 185, 186, 187, 188, 189, 190, 191, 192, 193, 194, 195, 196, 197, 198, 199, 200, 201, 202, 203, 204, 205, 206, 207, 208, 209, 210, 211, 212, 213, 214, 215, 216, 217, 218, 219, 220, 221, 222, 223, 224, 225, 226, 227, 228, 229, 230, 231, 232, 233, 234, 235, 236, 237, 238, 239, 240, 241, 242, 243, 244, 245, 246, 247, 248, 249, 250, 251, 252, 253, 254, 255, 256, 257, 258, 259, 260, 261, 262, 263, 264, 265, 266, 267, 268, 269, 270, 271, 272, 273, 274, 275, 276, 277, 278, 279, 280, 281, 282, 283, 284, 285, 286, 287, 288, 289, 290, 291, 292, 293, 294, 295, 296, 297, 298, 299, 300, 301, 302, 303, 304, 305, 306, 307, 308, 309, 310, 311, 312, 313, 314, 315, 316, 317, 318, 319, 320, 321, 322, 323, 324, 325, 326, 327, 328, 329, 330, 331, 332, 333, 334, 335, 336, 337, 338, 339, 340, 341, 342, 343, 344, 345, 346, 347, 348, 349, 350, 351, 352, 353, 354, 355, 356, 357, 358, 359, 360, 361, 362, 363, 364, 365, 366, 367, 368, 369, 370, 371, 372, 373, 374, 375, 376, 377, 378, 379, 380, 381, 382, 383, 384, 385, 386, 387, 388, 389, 390, 391, 392, 393, 394, 395, 396, 397, 398, 399, 400, 401, 402, 403, 404, 405, 406, 407, 408, 409, 410, 411, 412, 413, 414, 415, 416, 417, 418, 419, 420, 421, 422, 423, 424, 425, 426, 427, 428, 429, 430, 431, 432, 433, 434, 435, 436, 437, 438, 439, 440, 441, 442, 443, 444, 445, 446, 447, 448, 449, 450, 451, 452, 453, 454, 455, 456, 457, 458, 459, 460, 461, 462, 463, 464, 465, 466, 467, 468, 469, 470, 471, 472, 473, 474, 475, 476, 477, 478, 479, 480, 481, 482, 483, 484, 485, 486, 487, 488, 489, 490, 491, 492, 493, 494, 495, 496, 497, 498, 499, 500, 501, 502, 503, 504, 505, 506, 507, 508, 509, 510, 511, 512, 513, 514, 515, 516, 517, 518, 519, 520, 521, 522, 523, 524, 525, 526, 527, 528, 529, 530, 531, 532, 533, 534, 535, 536, 537, 538, 539, 540, 541, 542, 543, 544, 545, 546, 547, 548, 549, 550, 551, 552, 553, 554, 555, 556, 557, 558, 559, 560, 561, 562, 563, 564, 565, 566, 567, 568, 569, 570, 571, 572, 573, 574, 575, 576, 577, 578, 579, 580, 581, 582, 583, 584, 585, 586, 587, 588, 589, 590, 591, 592, 593, 594, 595, 596, 597, 598, 599, 600, 601, 602, 603, 604, 605, 606, 607, 608, 609, 610, 611, 612, 613, 614, 615, 616, 617, 618, 619, 620, 621, 622, 623, 624, 625, 626, 627, 628, 629, 630, 631, 632, 633, 634, 635, 636, 637, 638, 639, 640, 641, 642, 643, 644, 645, 646, 647, 648, 649, 650, 651, 652, 653, 654, 655, 656, 657, 658, 659, 660, 661, 662, 663, 664, 665, 666, 667, 668, 669, 670, 671, 672, 673, 674, 675, 676, 677, 678, 679, 680, 681, 682, 683, 684, 685, 686, 687, 688, 689, 690, 691, 692, 693, 694, 695, 696, 697, 698, 699, 700, 701, 702, 703, 704, 705, 706, 707, 708, 709, 710, 711, 712, 713, 714, 715, 716, 717, 718, 719, 720, 721, 722, 723, 724, 725, 726, 727, 728, 729, 730, 731, 732, 733, 734, 735, 736, 737, 738, 739, 740, 741, 742, 743, 744, 745, 746, 747, 748, 749, 750, 751, 752, 753, 754, 755, 756, 757, 758, 759, 760, 761, 762, 763, 764, 765, 766, 767, 768, 769, 770, 771, 772, 773, 774, 775, 776, 777, 778, 779, 780, 781, 782, 783, 784, 785, 786, 787, 788, 789, 790, 791, 792, 793, 794, 795, 796, 797, 798, 799, 800, 801, 802, 803, 804, 805, 806, 807, 808, 809, 810, 811, 812, 813, 814, 815, 816, 817, 818, 819, 820, 821, 822, 823, 824, 825, 826, 827, 828, 829, 830, 831, 832, 833, 834, 835, 836, 837, 838, 839, 840, 841, 842, 843, 844, 845, 846, 847, 848, 849, 850, 851, 852, 853, 854, 855, 856, 857, 858, 859, 860, 861, 862, 863, 864, 865, 866, 867, 868, 869, 870, 871, 872, 873, 874, 875, 876, 877, 878, 879, 880, 881, 882, 883, 884, 885, 886, 887, 888, 889, 890, 891, 892, 893, 894, 895, 896, 897, 898, 899, 900, 901, 902, 903, 904, 905, 906, 907, 908, 909, 910, 911, 912, 913, 914, 915, 916, 917, 918, 919, 920, 921, 922, 923, 924, 925, 926, 927, 928, 929, 930, 931, 932, 933, 934, 935, 936, 937, 938, 939, 940, 941, 942, 943, 944, 945, 946, 947, 948, 949, 950, 951, 952, 953, 954, 955, 956, 957, 958, 959, 960, 961, 962, 963, 964, 965, 966, 967, 968, 969, 970, 971, 972, 973, 974, 975, 976, 977, 978, 979, 980, 981, 982, 983, 984, 985, 986, 987, 988, 989, 990, 991, 992, 993, 994, 995, 996, 997, 998, 999}\n"
     ]
    },
    {
     "data": {
      "text/plain": [
       "(1,)"
      ]
     },
     "execution_count": 483,
     "metadata": {},
     "output_type": "execute_result"
    }
   ],
   "source": [
    "critical = CriticalRegion(alpha, fairradius, complete)\n",
    "critical[0].shape"
   ]
  },
  {
   "cell_type": "code",
   "execution_count": 484,
   "metadata": {},
   "outputs": [],
   "source": [
    "for i in range(complete.shape[0]):\n",
    "    if distancePS(critical[0], i, complete) > 2 * alpha * fairradius[i]:\n",
    "        print(False)"
   ]
  },
  {
   "cell_type": "code",
   "execution_count": 485,
   "metadata": {},
   "outputs": [],
   "source": [
    "# set(critical[1][critical[0][0]]) & set(critical[1][critical[0][1]])"
   ]
  },
  {
   "cell_type": "code",
   "execution_count": 486,
   "metadata": {},
   "outputs": [],
   "source": [
    "ifdm = IFDM(K, complete, 0.1, 0.95 / 5, critical[0], critical[1])"
   ]
  },
  {
   "cell_type": "code",
   "execution_count": 487,
   "metadata": {},
   "outputs": [
    {
     "data": {
      "text/plain": [
       "(1200, 1200)"
      ]
     },
     "execution_count": 487,
     "metadata": {},
     "output_type": "execute_result"
    }
   ],
   "source": [
    "ifdm[2].shape"
   ]
  },
  {
   "cell_type": "code",
   "execution_count": 488,
   "metadata": {},
   "outputs": [],
   "source": [
    "# for i in range(1150):\n",
    "#     for j in range(1150):\n",
    "#         if ifdm[2][i][j] != ifdm[2][j][i]:\n",
    "#             print(False)\n",
    "#             break"
   ]
  },
  {
   "cell_type": "code",
   "execution_count": 489,
   "metadata": {},
   "outputs": [],
   "source": [
    "# for i in range(1150):\n",
    "#     for j in range(1150):\n",
    "#         if ifdm[2][i][j] < 0:\n",
    "#             print(False)\n",
    "#             break\n",
    "#         if ifdm[2][i][j] == 0:\n",
    "#             if i != j:\n",
    "#                 print(False)\n",
    "#                 break"
   ]
  },
  {
   "cell_type": "code",
   "execution_count": 490,
   "metadata": {},
   "outputs": [],
   "source": [
    "# for i in range(1150):\n",
    "#     for j in range(1150):\n",
    "#         for k in range(1150):\n",
    "#             if ifdm[2][i][j] > ifdm[2][i][k] + ifdm[2][j][k] + 1e-8:\n",
    "#                 print(False)\n",
    "#                 print(ifdm[2][i][j], ifdm[2][i][k] + ifdm[2][j][k])"
   ]
  },
  {
   "cell_type": "code",
   "execution_count": 491,
   "metadata": {},
   "outputs": [
    {
     "data": {
      "text/plain": [
       "(1200,)"
      ]
     },
     "execution_count": 491,
     "metadata": {},
     "output_type": "execute_result"
    }
   ],
   "source": [
    "ifdm[0].shape"
   ]
  },
  {
   "cell_type": "code",
   "execution_count": 492,
   "metadata": {},
   "outputs": [
    {
     "name": "stdout",
     "output_type": "stream",
     "text": [
      "distance_p: 0.239894464\n",
      "0.119947232\n",
      "0.239894464\n",
      "0.0188727807\n",
      "0.239894464\n",
      "complete: 0.1812372086\n",
      "complete: 0.2511069068\n",
      "complete: 0.2282710886\n",
      "complete: 0.1467777509\n",
      "complete: 0.1806259551\n",
      "complete: 0.175223493\n",
      "complete: 0.119947232\n",
      "complete: 0.3204982216\n",
      "complete: 0.0180492725\n",
      "complete: 0.2144606028\n",
      "complete: 0.3666723617\n",
      "complete: 0.1740576418\n",
      "complete: 0.3379578148\n",
      "complete: 0.1207707728\n",
      "complete: 0.3212773112\n",
      "[(1, 5)]\n",
      "[0]\n",
      "[0, 1]\n",
      "[0, 1, 2]\n",
      "[0, 1, 2, 3]\n",
      "[0, 1, 2, 3, 4]\n",
      "[5]\n",
      "{0: 4, 1: 1}\n",
      "{0: array([0, 1, 2, 3, 4]), 1: array([5])}\n",
      "Gurobi Optimizer version 12.0.1 build v12.0.1rc0 (win64 - Windows 10.0 (19045.2))\n",
      "\n",
      "CPU model: Intel(R) Core(TM) i5-10200H CPU @ 2.40GHz, instruction set [SSE2|AVX|AVX2]\n",
      "Thread count: 4 physical cores, 8 logical processors, using up to 8 threads\n",
      "\n",
      "Optimize a model with 4 rows, 6 columns and 14 nonzeros\n",
      "Model fingerprint: 0x4335ef3e\n",
      "Variable types: 0 continuous, 6 integer (6 binary)\n",
      "Coefficient statistics:\n",
      "  Matrix range     [1e+00, 1e+00]\n",
      "  Objective range  [1e+00, 1e+00]\n",
      "  Bounds range     [1e+00, 1e+00]\n",
      "  RHS range        [1e+00, 5e+00]\n",
      "Found heuristic solution: objective 5.0000000\n",
      "Presolve removed 4 rows and 6 columns\n",
      "Presolve time: 0.00s\n",
      "Presolve: All rows and columns removed\n",
      "\n",
      "Explored 0 nodes (0 simplex iterations) in 0.00 seconds (0.00 work units)\n",
      "Thread count was 1 (of 8 available processors)\n",
      "\n",
      "Solution count 1: 5 \n",
      "\n",
      "Optimal solution found (tolerance 1.00e-04)\n",
      "Best objective 5.000000000000e+00, best bound 5.000000000000e+00, gap 0.0000%\n"
     ]
    }
   ],
   "source": [
    "solution = FMMDS(ifdm[1], K, 0.05, ifdm[2])"
   ]
  },
  {
   "cell_type": "code",
   "execution_count": 493,
   "metadata": {},
   "outputs": [
    {
     "data": {
      "text/plain": [
       "array([  8, 341, 360, 384, 648])"
      ]
     },
     "execution_count": 493,
     "metadata": {},
     "output_type": "execute_result"
    }
   ],
   "source": [
    "solution"
   ]
  },
  {
   "cell_type": "code",
   "execution_count": 494,
   "metadata": {},
   "outputs": [],
   "source": [
    "real_sol = SOL(solution, ifdm[3], complete)"
   ]
  },
  {
   "cell_type": "code",
   "execution_count": 495,
   "metadata": {},
   "outputs": [
    {
     "data": {
      "text/plain": [
       "array([  8, 341, 360, 384, 648])"
      ]
     },
     "execution_count": 495,
     "metadata": {},
     "output_type": "execute_result"
    }
   ],
   "source": [
    "real_sol"
   ]
  },
  {
   "cell_type": "code",
   "execution_count": 496,
   "metadata": {},
   "outputs": [
    {
     "data": {
      "text/plain": [
       "0.11994723203753908"
      ]
     },
     "execution_count": 496,
     "metadata": {},
     "output_type": "execute_result"
    }
   ],
   "source": [
    "MaxMinDiversity(real_sol, complete)"
   ]
  },
  {
   "cell_type": "code",
   "execution_count": 497,
   "metadata": {},
   "outputs": [
    {
     "data": {
      "text/plain": [
       "0.12642977654948243"
      ]
     },
     "execution_count": 497,
     "metadata": {},
     "output_type": "execute_result"
    }
   ],
   "source": [
    "MaxMinDiversity(b, complete)"
   ]
  },
  {
   "cell_type": "code",
   "execution_count": 498,
   "metadata": {},
   "outputs": [
    {
     "data": {
      "text/plain": [
       "True"
      ]
     },
     "execution_count": 498,
     "metadata": {},
     "output_type": "execute_result"
    }
   ],
   "source": [
    "Examine(complete, real_sol, fairradius, alpha, 3)"
   ]
  },
  {
   "cell_type": "code",
   "execution_count": 499,
   "metadata": {},
   "outputs": [
    {
     "data": {
      "text/plain": [
       "6.227537266812258e-05"
      ]
     },
     "execution_count": 499,
     "metadata": {},
     "output_type": "execute_result"
    }
   ],
   "source": [
    "np.min(complete[complete > 0])"
   ]
  },
  {
   "cell_type": "code",
   "execution_count": null,
   "metadata": {},
   "outputs": [],
   "source": []
  }
 ],
 "metadata": {
  "kernelspec": {
   "display_name": "coresets",
   "language": "python",
   "name": "python3"
  },
  "language_info": {
   "codemirror_mode": {
    "name": "ipython",
    "version": 3
   },
   "file_extension": ".py",
   "mimetype": "text/x-python",
   "name": "python",
   "nbconvert_exporter": "python",
   "pygments_lexer": "ipython3",
   "version": "3.9.19"
  }
 },
 "nbformat": 4,
 "nbformat_minor": 2
}
