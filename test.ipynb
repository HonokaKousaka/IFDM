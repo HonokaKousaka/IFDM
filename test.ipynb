{
 "cells": [
  {
   "cell_type": "code",
   "execution_count": 231,
   "metadata": {},
   "outputs": [],
   "source": [
    "import numpy as np\n",
    "import random\n",
    "import gurobipy as gp\n",
    "from gurobipy import GRB"
   ]
  },
  {
   "cell_type": "code",
   "execution_count": 232,
   "metadata": {},
   "outputs": [],
   "source": [
    "def MaxMinDiversity(subset: np.ndarray, complete: np.ndarray) -> float:\n",
    "    \"\"\"\n",
    "    Calculate Max-Min Diversity, the minimum distance between all pairs of points in the given subset.\n",
    "    \n",
    "    Parameters:\n",
    "        subset: Subset of points\n",
    "        complete: Complete graph adjacency matrix containing distances between all pairs of points\n",
    "    \n",
    "    Returns:\n",
    "        min_dist: Max-Min Diversity, the minimum distance between all pairs of points in the subset\n",
    "    \"\"\"\n",
    "    if len(subset) < 2:\n",
    "        return 0\n",
    "    \n",
    "    n = len(subset)\n",
    "    min_dist = float('inf')\n",
    "    \n",
    "    for i in range(n):\n",
    "        for j in range(i + 1, n):\n",
    "            dist = complete[subset[i]][subset[j]]\n",
    "            min_dist = min(min_dist, dist)\n",
    "    \n",
    "    return min_dist"
   ]
  },
  {
   "cell_type": "code",
   "execution_count": 233,
   "metadata": {},
   "outputs": [],
   "source": [
    "def FairRadius(k: int, complete: np.ndarray) -> np.ndarray:\n",
    "    \"\"\"\n",
    "    Calculate Fair Radius for all points in the dataset.\n",
    "\n",
    "    Parameters:\n",
    "        k: Integer parameter k, used to calculate minimum number of points each point needs to cover ⌈n/k⌉\n",
    "        complete: Complete graph adjacency matrix representing distances between all pairs of points\n",
    "        \n",
    "    Returns:\n",
    "        fair_radius: Fair Radius for all points in the dataset\n",
    "    \"\"\"\n",
    "    n = len(complete)\n",
    "    min_points = int(np.ceil(n / k))\n",
    "    fair_radius = []\n",
    "\n",
    "    for i in range(n):\n",
    "        distances = complete[i]\n",
    "        sorted_distances = np.sort(distances)\n",
    "        point_radius = sorted_distances[min_points-1]\n",
    "        fair_radius.append(point_radius)\n",
    "        \n",
    "    return np.array(fair_radius)\n"
   ]
  },
  {
   "cell_type": "code",
   "execution_count": 234,
   "metadata": {},
   "outputs": [],
   "source": [
    "def CriticalRegion(alpha: float, fair_radius: np.ndarray, complete: np.ndarray) -> tuple[np.ndarray, dict]:\n",
    "    \"\"\"\n",
    "    Generate the Critical Regions by finding a set of centers that cover all points.\n",
    "    \n",
    "    Parameters:\n",
    "        alpha: Fairness parameter\n",
    "        fair_radius: Array containing fair radius values for all points\n",
    "        complete: Complete graph adjacency matrix representing distances between all pairs of points\n",
    "        \n",
    "    Returns:\n",
    "        selected_centers: Centers of critical regions\n",
    "        critical_regions: Dictionary mapping each center to its covered points\n",
    "    \"\"\"\n",
    "    covered_points = set()\n",
    "    n = len(fair_radius)\n",
    "    points = set(range(n))\n",
    "    selected_centers = []\n",
    "    critical_regions = {}\n",
    "\n",
    "    while covered_points != points:\n",
    "        minus = points - covered_points\n",
    "        c = min(minus, key=lambda x: fair_radius[x])\n",
    "        selected_centers.append(c)\n",
    "        for point in minus:\n",
    "            if complete[point][c] <= 2 * alpha * fair_radius[point]:\n",
    "                covered_points.add(point)\n",
    "        print(len(covered_points))\n",
    "    selected_centers = np.array(selected_centers)\n",
    "\n",
    "    for center in selected_centers:\n",
    "        r_c = fair_radius[center]\n",
    "        distances = complete[center]\n",
    "        points_in_circle = np.array([i for i, dist in enumerate(distances) if dist <= alpha * r_c])\n",
    "        critical_regions[center] = points_in_circle\n",
    "\n",
    "    return selected_centers, critical_regions\n"
   ]
  },
  {
   "cell_type": "code",
   "execution_count": 235,
   "metadata": {},
   "outputs": [],
   "source": [
    "def IFDM(k: int, alpha: float, complete: np.ndarray, epsilon: float, beta: float, selected_centers: np.ndarray, critical_regions: dict) -> tuple[np.ndarray, tuple[tuple[np.ndarray, int], ...], np.ndarray, dict]:\n",
    "    \"\"\"\n",
    "    Construct an instance of k-clustering under partition matroid constraint corresponding to the given instance of alpha-fair k-clustering.\n",
    "    \n",
    "    Parameters:\n",
    "        k: Target number of clusters\n",
    "        alpha: Fairness parameter\n",
    "        complete: Complete graph adjacency matrix with distances\n",
    "        epsilon: Accuracy parameter (< 1/2)\n",
    "        beta: Approximation guarantee parameter (≤ 1)\n",
    "        selected_centers: Centers of critical regions\n",
    "        critical_regions: Dictionary mapping centers to covered points\n",
    "        \n",
    "    Returns:\n",
    "        P_prime: Augmented point set with duplicated points\n",
    "        centers_info: Tuple containing center selection info\n",
    "        d_prime: Modified graph adjacency matrix with distances\n",
    "        corresponding: The dictionary for get the corresponding point in originial data\n",
    "    \"\"\"\n",
    "    n = len(complete)\n",
    "    P_0 = list(range(n))\n",
    "    P_1 = list(range(n))\n",
    "    current_max_id = n\n",
    "    \n",
    "    B_copies = {}\n",
    "    corresponding = {}\n",
    "    for center in selected_centers:\n",
    "        copies = []\n",
    "        for point in critical_regions[center]:\n",
    "            corresponding[current_max_id] = point\n",
    "            copies.append(current_max_id)\n",
    "            P_1.append(point)\n",
    "            current_max_id += 1\n",
    "        B_copies[center] = np.array(copies)\n",
    "\n",
    "    P_prime = np.arange(current_max_id)\n",
    "    \n",
    "    k_i = {center: 1 for center in selected_centers}\n",
    "    \n",
    "    k_0 = k - len(selected_centers)\n",
    "\n",
    "    delta = float('inf')\n",
    "    for i in range(n):\n",
    "        for j in range(i+1, n):\n",
    "            if complete[i][j] > 0:\n",
    "                delta = min(delta, complete[i][j])\n",
    "\n",
    "    n_prime = len(P_prime)\n",
    "    d_prime = np.zeros((n_prime, n_prime))\n",
    "\n",
    "    for i in range(n_prime):\n",
    "        for j in range(n_prime):\n",
    "            if i == j:\n",
    "                d_prime[i][j] = 0\n",
    "            elif P_1[i] != P_1[j]:\n",
    "                d_prime[i][j] = complete[P_1[i]][P_1[j]]\n",
    "            else:\n",
    "                d_prime[i][j] = epsilon * beta * delta\n",
    "                \n",
    "    return P_prime, ((P_0, k_0), *((B_copies[c], k_i[c]) for c in selected_centers)), d_prime, corresponding\n"
   ]
  },
  {
   "cell_type": "code",
   "execution_count": 236,
   "metadata": {},
   "outputs": [],
   "source": [
    "def distancePS(centerSet: np.ndarray, i: int, complete: np.ndarray) -> float:\n",
    "    \"\"\"\n",
    "    Returns the distance between a certain point and a certain set.\n",
    "    \n",
    "    Parameters:\n",
    "        centerSet: A numpy array containing confirmed center indexes\n",
    "        i: The index of any point\n",
    "        complete : Complete graph adjacency matrix containing distances between all pairs of points\n",
    "    \n",
    "    Returns:\n",
    "        min_distance: The distance between point and center set\n",
    "    \"\"\"\n",
    "    min_distance = float(\"inf\")\n",
    "    for center in centerSet:\n",
    "        distance = complete[center][i]\n",
    "        if (distance < min_distance):\n",
    "            min_distance = distance\n",
    "    \n",
    "    return min_distance"
   ]
  },
  {
   "cell_type": "code",
   "execution_count": 237,
   "metadata": {},
   "outputs": [],
   "source": [
    "def GMM(points_index: np.ndarray, k: int, complete: np.ndarray) -> np.ndarray:\n",
    "    \"\"\"\n",
    "    Returns indexes of k centers after running GMM Algorithm.\n",
    "    \n",
    "    Parameters: \n",
    "        points_index: The indexes of data\n",
    "        k: A decimal integer, the number of centers\n",
    "        complete: Complete graph adjacency matrix containing distances between all pairs of points\n",
    "        initial: An initial set of elements\n",
    "    \n",
    "    Returns:\n",
    "        centers: A numpy array with k indexes as center point indexes\n",
    "    \"\"\"\n",
    "    centers = []\n",
    "    initial_point_index = random.choice(points_index)\n",
    "    centers.append(initial_point_index)\n",
    "    while (len(centers) < k):\n",
    "        max_distance = 0\n",
    "        max_distance_vector_index = None\n",
    "        for i in points_index:\n",
    "            distance = distancePS(centers, i, complete)\n",
    "            if distance > max_distance:\n",
    "                max_distance = distance\n",
    "                max_distance_vector_index = i\n",
    "        centers.append(max_distance_vector_index)\n",
    "    centers = np.array(centers)\n",
    "\n",
    "    return centers"
   ]
  },
  {
   "cell_type": "code",
   "execution_count": 238,
   "metadata": {},
   "outputs": [],
   "source": [
    "def ILP(n, E, k, color_constraints, color_sets):\n",
    "    model = gp.Model(\"ILP\")\n",
    "\n",
    "    x = model.addVars(n, vtype=GRB.BINARY, name=\"x\")\n",
    "\n",
    "    model.setObjective(gp.quicksum(x[i] for i in range(n)), GRB.MAXIMIZE)\n",
    "\n",
    "    for (i, j) in E:\n",
    "        model.addConstr(x[i] + x[j] <= 1, f\"edge_{i}_{j}\")\n",
    "\n",
    "    model.addConstr(gp.quicksum(x[i] for i in range(n)) <= k, \"max_selection\")\n",
    "\n",
    "    for c, number in color_constraints.items():\n",
    "        nodes_in_color = color_sets[c]\n",
    "        print(nodes_in_color)\n",
    "        model.addConstr(gp.quicksum(x[i] for i in nodes_in_color) == number, f\"number_color_{c}\")\n",
    "\n",
    "    model.optimize()\n",
    "\n",
    "    if model.status == GRB.OPTIMAL:\n",
    "        selected_nodes = np.array([i for i in range(n) if x[i].x > 0.5])\n",
    "        return selected_nodes\n",
    "    else:\n",
    "        raise ValueError(\"No optimal solution found.\")\n",
    "        "
   ]
  },
  {
   "cell_type": "code",
   "execution_count": 239,
   "metadata": {},
   "outputs": [],
   "source": [
    "def FMMDS(sets: tuple, k: int, error: float, complete: np.ndarray) -> np.ndarray:\n",
    "    \"\"\"\n",
    "    Returns a subset with high Max-min diversity under partition matroid constraint.\n",
    "    \n",
    "    Parameters:\n",
    "        sets: A tuple containing partitioned sets returned by IFDM function\n",
    "        k: A decimal integer, the number of elements to be selected\n",
    "        error: A float number indicating the error parameter\n",
    "        complete: Complete graph adjacency matrix containing distances between all pairs of points\n",
    "    \n",
    "    Returns:\n",
    "        solution: A numpy array containing selected elements that maximize the minimum pairwise distance\n",
    "    \"\"\"\n",
    "    amount = complete.shape[0]\n",
    "    complete_array = np.arange(amount)\n",
    "    U_gmm = GMM(complete_array, k, complete)\n",
    "    critical_number = len(sets)\n",
    "    U_c = []\n",
    "    for i in range(critical_number):\n",
    "        U_c.append(np.intersect1d(sets[i][0], U_gmm))\n",
    "    distance_p = 2 * MaxMinDiversity(U_gmm, complete)\n",
    "    print(U_c)\n",
    "\n",
    "    S = []\n",
    "    while len(S) == 0:\n",
    "        for c in range(critical_number):\n",
    "            while len(U_c[c]) < k and any(v for v in sets[c][0] if MaxMinDiversity(np.union1d(U_c[c], [v]), complete) >= distance_p):\n",
    "                max_distance = 0\n",
    "                max_distance_vector_index = None\n",
    "                for i in sets[c][0]:\n",
    "                    distance = distancePS(U_c[c], i, complete)\n",
    "                    if distance > max_distance:\n",
    "                        max_distance = distance\n",
    "                        max_distance_vector_index = i\n",
    "                U_c[c] = np.append(U_c[c], max_distance_vector_index)\n",
    "\n",
    "        V_p = np.concatenate(U_c)\n",
    "        E = []\n",
    "        for i in range(len(V_p)):\n",
    "             for j in range(i + 1, len(V_p)):\n",
    "                  if complete[V_p[i]][V_p[j]] < distance_p / 2:\n",
    "                       E.append((V_p[i], V_p[j]))\n",
    "\n",
    "        color_constraints = dict()\n",
    "        color_sets = dict()\n",
    "        for group in range(critical_number):\n",
    "            color_constraints[group] = sets[group][1]\n",
    "            color_sets[group] = sets[group][0]\n",
    "        \n",
    "        solution = ILP(amount, E, k, color_constraints, color_sets)\n",
    "        if len(solution) < k:\n",
    "             distance_p = (1 - error) * distance_p\n",
    "        else:\n",
    "             S = solution\n",
    "    return S"
   ]
  },
  {
   "cell_type": "code",
   "execution_count": 240,
   "metadata": {},
   "outputs": [],
   "source": [
    "def SOL(S: np.ndarray, corresponding: dict, complete: np.ndarray):\n",
    "\n",
    "    solution = []\n",
    "    for point in S:\n",
    "        if point < complete.shape[0]:\n",
    "            solution.append(point)\n",
    "        else:\n",
    "            solution.append(corresponding[point])\n",
    "    solution = np.array(solution)\n",
    "\n",
    "    return solution"
   ]
  },
  {
   "cell_type": "code",
   "execution_count": 241,
   "metadata": {},
   "outputs": [],
   "source": [
    "def G(points: np.ndarray) -> tuple[np.ndarray, np.ndarray]:\n",
    "    \"\"\"\n",
    "    Returns the adjacency matrix of n points and the list of edges.\n",
    "    Args: \n",
    "        points (np.ndarray): The dataset, a list with n points\n",
    "    Returns:\n",
    "        complete (np.ndarray): The adjacency matrix of n points.\n",
    "        edges (np.ndarray): The list of edges.\n",
    "    \"\"\"\n",
    "    length = points.shape[0]\n",
    "    complete = np.zeros((length, length))\n",
    "    edges = []\n",
    "    for k, point_k in enumerate(points):\n",
    "        for j, point_j in enumerate(points):\n",
    "            distance_kj = np.linalg.norm(point_k - point_j)\n",
    "            complete[k][j] = distance_kj\n",
    "            if (j > k):\n",
    "                edges.append(distance_kj)\n",
    "    edges.sort()\n",
    "    edges = np.array(edges)\n",
    "    return complete, edges"
   ]
  },
  {
   "cell_type": "markdown",
   "metadata": {},
   "source": [
    "人造数据集测试！"
   ]
  },
  {
   "cell_type": "code",
   "execution_count": 242,
   "metadata": {},
   "outputs": [],
   "source": [
    "import math\n",
    "import matplotlib.pyplot as plt"
   ]
  },
  {
   "cell_type": "code",
   "execution_count": 243,
   "metadata": {},
   "outputs": [],
   "source": [
    "# ============\n",
    "# Generate datasets\n",
    "# ============\n",
    "np.random.seed(434)\n",
    "n_samples = 1500 # sample size\n",
    "z = 1000\n",
    "\n",
    "# ============\n",
    "# Definitions of Functions\n",
    "# ============\n",
    "def mat_sqrt(Mat):\n",
    "    eig_value,eig_vec = eig(Mat)\n",
    "    return(eig_vec.dot(np.diag(np.sqrt(eig_value)).dot(eig_vec.T)))"
   ]
  },
  {
   "cell_type": "code",
   "execution_count": 244,
   "metadata": {},
   "outputs": [
    {
     "data": {
      "text/plain": [
       "<matplotlib.collections.PathCollection at 0x19718a8a520>"
      ]
     },
     "execution_count": 244,
     "metadata": {},
     "output_type": "execute_result"
    },
    {
     "data": {
      "image/png": "[encoded data removed]",
      "text/plain": [
       "<Figure size 500x500 with 1 Axes>"
      ]
     },
     "metadata": {},
     "output_type": "display_data"
    }
   ],
   "source": [
    "## Case One : Simple Case (Equal Variance and Equal Size)\n",
    "K = 30\n",
    "n_subset = int(n_samples/3)\n",
    "z1 = np.random.normal(loc = 0, scale = 0.3,size = (n_subset,2))\n",
    "z2 = np.random.normal(loc = 0, scale = 0.3,size = (n_subset,2))\n",
    "z3 = np.random.normal(loc = 0, scale = 0.3,size = (n_subset,2))\n",
    "\n",
    "mu1 = np.array([0,1])\n",
    "mu2 = np.array([-math.sqrt(2),-math.sqrt(2)])\n",
    "mu3 = np.array([math.sqrt(2),-math.sqrt(2)])\n",
    "\n",
    "true_labels_1 = []\n",
    "x11 = z1 + mu1\n",
    "x12 = z2 + mu2\n",
    "x13 = z3 + mu3\n",
    "dataset1 = np.r_[x11,x12,x13]\n",
    "for i in range(len(x11)):\n",
    "    true_labels_1.append(0)\n",
    "for i in range(len(x12)):\n",
    "    true_labels_1.append(1)\n",
    "for i in range(len(x13)):\n",
    "    true_labels_1.append(2)\n",
    "\n",
    "fig = plt.figure(figsize = [5,5])\n",
    "ax = fig.add_subplot(1,1,1)\n",
    "plt.xticks(())\n",
    "plt.yticks(())\n",
    "plt.scatter(x11[:,0],x11[:,1],color=\"grey\",s = 2)\n",
    "plt.scatter(x12[:,0],x12[:,1],color=\"grey\",s = 2)\n",
    "plt.scatter(x13[:,0],x13[:,1],color=\"grey\",s = 2)"
   ]
  },
  {
   "cell_type": "code",
   "execution_count": 245,
   "metadata": {},
   "outputs": [
    {
     "data": {
      "text/plain": [
       "(1500, 2)"
      ]
     },
     "execution_count": 245,
     "metadata": {},
     "output_type": "execute_result"
    }
   ],
   "source": [
    "dataset1.shape"
   ]
  },
  {
   "cell_type": "code",
   "execution_count": 246,
   "metadata": {},
   "outputs": [],
   "source": [
    "complete, edges = G(dataset1)\n"
   ]
  },
  {
   "cell_type": "code",
   "execution_count": 247,
   "metadata": {},
   "outputs": [
    {
     "data": {
      "text/plain": [
       "(1500, 1500)"
      ]
     },
     "execution_count": 247,
     "metadata": {},
     "output_type": "execute_result"
    }
   ],
   "source": [
    "complete.shape"
   ]
  },
  {
   "cell_type": "code",
   "execution_count": 248,
   "metadata": {},
   "outputs": [
    {
     "data": {
      "text/plain": [
       "array([   0,    1,    2, ..., 1497, 1498, 1499])"
      ]
     },
     "execution_count": 248,
     "metadata": {},
     "output_type": "execute_result"
    }
   ],
   "source": [
    "points = np.arange(dataset1.shape[0])\n",
    "points"
   ]
  },
  {
   "cell_type": "code",
   "execution_count": 249,
   "metadata": {},
   "outputs": [
    {
     "data": {
      "text/plain": [
       "<matplotlib.collections.PathCollection at 0x19718e6faf0>"
      ]
     },
     "execution_count": 249,
     "metadata": {},
     "output_type": "execute_result"
    },
    {
     "data": {
      "image/png": "[encoded data removed]",
      "text/plain": [
       "<Figure size 500x500 with 1 Axes>"
      ]
     },
     "metadata": {},
     "output_type": "display_data"
    }
   ],
   "source": [
    "b = GMM(points, K, complete)\n",
    "a = list(b)\n",
    "for i in range(len(a)):\n",
    "    a[i] = list(dataset1[b[i]])\n",
    "a = np.array(a)\n",
    "fig = plt.figure(figsize = [5,5])\n",
    "ax = fig.add_subplot(1,1,1)\n",
    "plt.xticks(())\n",
    "plt.yticks(())\n",
    "plt.scatter(x11[:,0],x11[:,1],color=\"grey\",s = 2)\n",
    "plt.scatter(x12[:,0],x12[:,1],color=\"grey\",s = 2)\n",
    "plt.scatter(x13[:,0],x13[:,1],color=\"grey\",s = 2)\n",
    "plt.scatter(a[:,0], a[:,1], color=\"red\", s = 2)"
   ]
  },
  {
   "cell_type": "code",
   "execution_count": 250,
   "metadata": {},
   "outputs": [
    {
     "data": {
      "text/plain": [
       "0.48587022418405523"
      ]
     },
     "execution_count": 250,
     "metadata": {},
     "output_type": "execute_result"
    }
   ],
   "source": [
    "MaxMinDiversity(b, complete)"
   ]
  },
  {
   "cell_type": "code",
   "execution_count": 251,
   "metadata": {},
   "outputs": [
    {
     "data": {
      "text/plain": [
       "array([0.26171399, 0.22509077, 0.25077911, ..., 0.38606186, 0.29102952,\n",
       "       0.41601625])"
      ]
     },
     "execution_count": 251,
     "metadata": {},
     "output_type": "execute_result"
    }
   ],
   "source": [
    "fairradius = FairRadius(K, complete)\n",
    "fairradius"
   ]
  },
  {
   "cell_type": "code",
   "execution_count": 252,
   "metadata": {},
   "outputs": [
    {
     "name": "stdout",
     "output_type": "stream",
     "text": [
      "331\n",
      "730\n",
      "1031\n",
      "1153\n",
      "1199\n",
      "1320\n",
      "1398\n",
      "1453\n",
      "1499\n",
      "1500\n"
     ]
    },
    {
     "data": {
      "text/plain": [
       "(10,)"
      ]
     },
     "execution_count": 252,
     "metadata": {},
     "output_type": "execute_result"
    }
   ],
   "source": [
    "critical = CriticalRegion(1, fairradius, complete)\n",
    "critical[0].shape"
   ]
  },
  {
   "cell_type": "code",
   "execution_count": 253,
   "metadata": {},
   "outputs": [
    {
     "data": {
      "text/plain": [
       "array([ 119, 1360,  603,    5,  454,  894,  973, 1258, 1388,  312])"
      ]
     },
     "execution_count": 253,
     "metadata": {},
     "output_type": "execute_result"
    }
   ],
   "source": [
    "critical[0]"
   ]
  },
  {
   "cell_type": "code",
   "execution_count": 254,
   "metadata": {},
   "outputs": [
    {
     "data": {
      "text/plain": [
       "{119: array([  3,  17,  39,  44,  50,  58,  69,  70,  77,  79,  81,  83,  86,\n",
       "         89,  93,  97, 119, 134, 148, 151, 178, 182, 183, 186, 193, 198,\n",
       "        214, 232, 236, 270, 282, 283, 299, 301, 338, 341, 347, 353, 357,\n",
       "        368, 382, 397, 403, 413, 427, 443, 459, 463, 491, 494]),\n",
       " 1360: array([1010, 1013, 1014, 1022, 1037, 1045, 1047, 1049, 1056, 1068, 1069,\n",
       "        1073, 1093, 1108, 1114, 1126, 1143, 1148, 1158, 1176, 1180, 1200,\n",
       "        1232, 1246, 1247, 1261, 1271, 1279, 1299, 1300, 1303, 1326, 1343,\n",
       "        1345, 1352, 1360, 1370, 1405, 1421, 1422, 1423, 1424, 1431, 1432,\n",
       "        1443, 1444, 1446, 1447, 1471, 1496]),\n",
       " 603: array([556, 561, 566, 569, 586, 588, 589, 603, 609, 610, 618, 641, 645,\n",
       "        656, 678, 696, 700, 701, 707, 721, 726, 730, 738, 750, 752, 759,\n",
       "        763, 779, 788, 813, 814, 824, 832, 847, 848, 851, 871, 876, 886,\n",
       "        896, 904, 906, 908, 911, 918, 942, 943, 960, 975, 982]),\n",
       " 5: array([  5,  14,  15,  16,  20,  21,  25,  65,  66,  71,  73,  85,  92,\n",
       "         94,  98, 110, 133, 138, 139, 142, 159, 161, 175, 195, 197, 206,\n",
       "        212, 213, 216, 233, 241, 251, 278, 305, 323, 344, 371, 383, 389,\n",
       "        402, 405, 418, 423, 425, 449, 467, 477, 478, 487, 498]),\n",
       " 454: array([ 22,  27,  45,  48,  51,  59,  62,  64,  72,  84, 103, 104, 105,\n",
       "        106, 116, 120, 127, 168, 173, 188, 200, 204, 261, 263, 290, 293,\n",
       "        302, 306, 321, 335, 337, 342, 345, 352, 354, 359, 374, 379, 384,\n",
       "        410, 416, 430, 435, 444, 453, 454, 473, 474, 482, 493]),\n",
       " 894: array([502, 504, 505, 539, 542, 543, 580, 583, 608, 611, 627, 632, 638,\n",
       "        644, 663, 664, 682, 689, 692, 693, 712, 720, 728, 740, 748, 776,\n",
       "        780, 781, 786, 790, 794, 796, 818, 825, 833, 843, 850, 859, 863,\n",
       "        865, 894, 901, 903, 909, 920, 935, 947, 967, 993, 996]),\n",
       " 973: array([532, 533, 534, 544, 554, 558, 560, 564, 573, 582, 600, 617, 625,\n",
       "        629, 636, 642, 647, 652, 666, 669, 686, 699, 704, 731, 757, 767,\n",
       "        772, 784, 806, 807, 811, 829, 836, 838, 856, 866, 878, 883, 890,\n",
       "        910, 912, 915, 922, 927, 929, 940, 963, 972, 973, 977]),\n",
       " 1258: array([1026, 1038, 1040, 1060, 1071, 1072, 1103, 1109, 1110, 1142, 1154,\n",
       "        1159, 1161, 1187, 1193, 1234, 1239, 1244, 1248, 1250, 1256, 1258,\n",
       "        1266, 1269, 1273, 1275, 1281, 1289, 1325, 1328, 1335, 1341, 1353,\n",
       "        1364, 1373, 1374, 1379, 1383, 1403, 1408, 1428, 1445, 1448, 1462,\n",
       "        1473, 1474, 1477, 1480, 1481, 1490]),\n",
       " 1388: array([1008, 1020, 1032, 1036, 1076, 1078, 1085, 1086, 1100, 1106, 1107,\n",
       "        1119, 1129, 1136, 1139, 1156, 1157, 1162, 1169, 1183, 1190, 1194,\n",
       "        1197, 1198, 1203, 1212, 1213, 1219, 1224, 1227, 1237, 1238, 1240,\n",
       "        1243, 1253, 1254, 1314, 1334, 1361, 1363, 1388, 1396, 1400, 1407,\n",
       "        1414, 1418, 1451, 1483, 1485, 1487]),\n",
       " 312: array([  2,  11,  31,  37,  47,  49,  52,  74,  75,  87,  95, 117, 143,\n",
       "        155, 158, 162, 181, 184, 202, 219, 230, 239, 243, 248, 275, 276,\n",
       "        294, 296, 312, 314, 322, 326, 329, 333, 362, 363, 365, 367, 373,\n",
       "        392, 395, 396, 411, 420, 437, 450, 461, 483, 484, 485])}"
      ]
     },
     "execution_count": 254,
     "metadata": {},
     "output_type": "execute_result"
    }
   ],
   "source": [
    "critical[1]"
   ]
  },
  {
   "cell_type": "code",
   "execution_count": 255,
   "metadata": {},
   "outputs": [],
   "source": [
    "ifdm = IFDM(K, 1, complete, 0.05, 1, critical[0], critical[1])"
   ]
  },
  {
   "cell_type": "code",
   "execution_count": 256,
   "metadata": {},
   "outputs": [
    {
     "data": {
      "text/plain": [
       "(2000,)"
      ]
     },
     "execution_count": 256,
     "metadata": {},
     "output_type": "execute_result"
    }
   ],
   "source": [
    "ifdm[0].shape"
   ]
  },
  {
   "cell_type": "code",
   "execution_count": 257,
   "metadata": {},
   "outputs": [
    {
     "data": {
      "text/plain": [
       "(2000, 2000)"
      ]
     },
     "execution_count": 257,
     "metadata": {},
     "output_type": "execute_result"
    }
   ],
   "source": [
    "ifdm[2].shape"
   ]
  },
  {
   "cell_type": "code",
   "execution_count": 258,
   "metadata": {},
   "outputs": [
    {
     "name": "stdout",
     "output_type": "stream",
     "text": [
      "[array([   7,   19,   68,  117,  128,  160,  172,  208,  414,  513,  553,\n",
      "        563,  624,  628,  651,  655,  725,  736,  822, 1018, 1067, 1185,\n",
      "       1217, 1262, 1332, 1358, 1392, 1413, 1462]), array([], dtype=int32), array([], dtype=int32), array([], dtype=int32), array([], dtype=int32), array([], dtype=int32), array([1757]), array([], dtype=int32), array([], dtype=int32), array([], dtype=int32), array([], dtype=int32)]\n",
      "[0, 1, 2, 3, 4, 5, 6, 7, 8, 9, 10, 11, 12, 13, 14, 15, 16, 17, 18, 19, 20, 21, 22, 23, 24, 25, 26, 27, 28, 29, 30, 31, 32, 33, 34, 35, 36, 37, 38, 39, 40, 41, 42, 43, 44, 45, 46, 47, 48, 49, 50, 51, 52, 53, 54, 55, 56, 57, 58, 59, 60, 61, 62, 63, 64, 65, 66, 67, 68, 69, 70, 71, 72, 73, 74, 75, 76, 77, 78, 79, 80, 81, 82, 83, 84, 85, 86, 87, 88, 89, 90, 91, 92, 93, 94, 95, 96, 97, 98, 99, 100, 101, 102, 103, 104, 105, 106, 107, 108, 109, 110, 111, 112, 113, 114, 115, 116, 117, 118, 119, 120, 121, 122, 123, 124, 125, 126, 127, 128, 129, 130, 131, 132, 133, 134, 135, 136, 137, 138, 139, 140, 141, 142, 143, 144, 145, 146, 147, 148, 149, 150, 151, 152, 153, 154, 155, 156, 157, 158, 159, 160, 161, 162, 163, 164, 165, 166, 167, 168, 169, 170, 171, 172, 173, 174, 175, 176, 177, 178, 179, 180, 181, 182, 183, 184, 185, 186, 187, 188, 189, 190, 191, 192, 193, 194, 195, 196, 197, 198, 199, 200, 201, 202, 203, 204, 205, 206, 207, 208, 209, 210, 211, 212, 213, 214, 215, 216, 217, 218, 219, 220, 221, 222, 223, 224, 225, 226, 227, 228, 229, 230, 231, 232, 233, 234, 235, 236, 237, 238, 239, 240, 241, 242, 243, 244, 245, 246, 247, 248, 249, 250, 251, 252, 253, 254, 255, 256, 257, 258, 259, 260, 261, 262, 263, 264, 265, 266, 267, 268, 269, 270, 271, 272, 273, 274, 275, 276, 277, 278, 279, 280, 281, 282, 283, 284, 285, 286, 287, 288, 289, 290, 291, 292, 293, 294, 295, 296, 297, 298, 299, 300, 301, 302, 303, 304, 305, 306, 307, 308, 309, 310, 311, 312, 313, 314, 315, 316, 317, 318, 319, 320, 321, 322, 323, 324, 325, 326, 327, 328, 329, 330, 331, 332, 333, 334, 335, 336, 337, 338, 339, 340, 341, 342, 343, 344, 345, 346, 347, 348, 349, 350, 351, 352, 353, 354, 355, 356, 357, 358, 359, 360, 361, 362, 363, 364, 365, 366, 367, 368, 369, 370, 371, 372, 373, 374, 375, 376, 377, 378, 379, 380, 381, 382, 383, 384, 385, 386, 387, 388, 389, 390, 391, 392, 393, 394, 395, 396, 397, 398, 399, 400, 401, 402, 403, 404, 405, 406, 407, 408, 409, 410, 411, 412, 413, 414, 415, 416, 417, 418, 419, 420, 421, 422, 423, 424, 425, 426, 427, 428, 429, 430, 431, 432, 433, 434, 435, 436, 437, 438, 439, 440, 441, 442, 443, 444, 445, 446, 447, 448, 449, 450, 451, 452, 453, 454, 455, 456, 457, 458, 459, 460, 461, 462, 463, 464, 465, 466, 467, 468, 469, 470, 471, 472, 473, 474, 475, 476, 477, 478, 479, 480, 481, 482, 483, 484, 485, 486, 487, 488, 489, 490, 491, 492, 493, 494, 495, 496, 497, 498, 499, 500, 501, 502, 503, 504, 505, 506, 507, 508, 509, 510, 511, 512, 513, 514, 515, 516, 517, 518, 519, 520, 521, 522, 523, 524, 525, 526, 527, 528, 529, 530, 531, 532, 533, 534, 535, 536, 537, 538, 539, 540, 541, 542, 543, 544, 545, 546, 547, 548, 549, 550, 551, 552, 553, 554, 555, 556, 557, 558, 559, 560, 561, 562, 563, 564, 565, 566, 567, 568, 569, 570, 571, 572, 573, 574, 575, 576, 577, 578, 579, 580, 581, 582, 583, 584, 585, 586, 587, 588, 589, 590, 591, 592, 593, 594, 595, 596, 597, 598, 599, 600, 601, 602, 603, 604, 605, 606, 607, 608, 609, 610, 611, 612, 613, 614, 615, 616, 617, 618, 619, 620, 621, 622, 623, 624, 625, 626, 627, 628, 629, 630, 631, 632, 633, 634, 635, 636, 637, 638, 639, 640, 641, 642, 643, 644, 645, 646, 647, 648, 649, 650, 651, 652, 653, 654, 655, 656, 657, 658, 659, 660, 661, 662, 663, 664, 665, 666, 667, 668, 669, 670, 671, 672, 673, 674, 675, 676, 677, 678, 679, 680, 681, 682, 683, 684, 685, 686, 687, 688, 689, 690, 691, 692, 693, 694, 695, 696, 697, 698, 699, 700, 701, 702, 703, 704, 705, 706, 707, 708, 709, 710, 711, 712, 713, 714, 715, 716, 717, 718, 719, 720, 721, 722, 723, 724, 725, 726, 727, 728, 729, 730, 731, 732, 733, 734, 735, 736, 737, 738, 739, 740, 741, 742, 743, 744, 745, 746, 747, 748, 749, 750, 751, 752, 753, 754, 755, 756, 757, 758, 759, 760, 761, 762, 763, 764, 765, 766, 767, 768, 769, 770, 771, 772, 773, 774, 775, 776, 777, 778, 779, 780, 781, 782, 783, 784, 785, 786, 787, 788, 789, 790, 791, 792, 793, 794, 795, 796, 797, 798, 799, 800, 801, 802, 803, 804, 805, 806, 807, 808, 809, 810, 811, 812, 813, 814, 815, 816, 817, 818, 819, 820, 821, 822, 823, 824, 825, 826, 827, 828, 829, 830, 831, 832, 833, 834, 835, 836, 837, 838, 839, 840, 841, 842, 843, 844, 845, 846, 847, 848, 849, 850, 851, 852, 853, 854, 855, 856, 857, 858, 859, 860, 861, 862, 863, 864, 865, 866, 867, 868, 869, 870, 871, 872, 873, 874, 875, 876, 877, 878, 879, 880, 881, 882, 883, 884, 885, 886, 887, 888, 889, 890, 891, 892, 893, 894, 895, 896, 897, 898, 899, 900, 901, 902, 903, 904, 905, 906, 907, 908, 909, 910, 911, 912, 913, 914, 915, 916, 917, 918, 919, 920, 921, 922, 923, 924, 925, 926, 927, 928, 929, 930, 931, 932, 933, 934, 935, 936, 937, 938, 939, 940, 941, 942, 943, 944, 945, 946, 947, 948, 949, 950, 951, 952, 953, 954, 955, 956, 957, 958, 959, 960, 961, 962, 963, 964, 965, 966, 967, 968, 969, 970, 971, 972, 973, 974, 975, 976, 977, 978, 979, 980, 981, 982, 983, 984, 985, 986, 987, 988, 989, 990, 991, 992, 993, 994, 995, 996, 997, 998, 999, 1000, 1001, 1002, 1003, 1004, 1005, 1006, 1007, 1008, 1009, 1010, 1011, 1012, 1013, 1014, 1015, 1016, 1017, 1018, 1019, 1020, 1021, 1022, 1023, 1024, 1025, 1026, 1027, 1028, 1029, 1030, 1031, 1032, 1033, 1034, 1035, 1036, 1037, 1038, 1039, 1040, 1041, 1042, 1043, 1044, 1045, 1046, 1047, 1048, 1049, 1050, 1051, 1052, 1053, 1054, 1055, 1056, 1057, 1058, 1059, 1060, 1061, 1062, 1063, 1064, 1065, 1066, 1067, 1068, 1069, 1070, 1071, 1072, 1073, 1074, 1075, 1076, 1077, 1078, 1079, 1080, 1081, 1082, 1083, 1084, 1085, 1086, 1087, 1088, 1089, 1090, 1091, 1092, 1093, 1094, 1095, 1096, 1097, 1098, 1099, 1100, 1101, 1102, 1103, 1104, 1105, 1106, 1107, 1108, 1109, 1110, 1111, 1112, 1113, 1114, 1115, 1116, 1117, 1118, 1119, 1120, 1121, 1122, 1123, 1124, 1125, 1126, 1127, 1128, 1129, 1130, 1131, 1132, 1133, 1134, 1135, 1136, 1137, 1138, 1139, 1140, 1141, 1142, 1143, 1144, 1145, 1146, 1147, 1148, 1149, 1150, 1151, 1152, 1153, 1154, 1155, 1156, 1157, 1158, 1159, 1160, 1161, 1162, 1163, 1164, 1165, 1166, 1167, 1168, 1169, 1170, 1171, 1172, 1173, 1174, 1175, 1176, 1177, 1178, 1179, 1180, 1181, 1182, 1183, 1184, 1185, 1186, 1187, 1188, 1189, 1190, 1191, 1192, 1193, 1194, 1195, 1196, 1197, 1198, 1199, 1200, 1201, 1202, 1203, 1204, 1205, 1206, 1207, 1208, 1209, 1210, 1211, 1212, 1213, 1214, 1215, 1216, 1217, 1218, 1219, 1220, 1221, 1222, 1223, 1224, 1225, 1226, 1227, 1228, 1229, 1230, 1231, 1232, 1233, 1234, 1235, 1236, 1237, 1238, 1239, 1240, 1241, 1242, 1243, 1244, 1245, 1246, 1247, 1248, 1249, 1250, 1251, 1252, 1253, 1254, 1255, 1256, 1257, 1258, 1259, 1260, 1261, 1262, 1263, 1264, 1265, 1266, 1267, 1268, 1269, 1270, 1271, 1272, 1273, 1274, 1275, 1276, 1277, 1278, 1279, 1280, 1281, 1282, 1283, 1284, 1285, 1286, 1287, 1288, 1289, 1290, 1291, 1292, 1293, 1294, 1295, 1296, 1297, 1298, 1299, 1300, 1301, 1302, 1303, 1304, 1305, 1306, 1307, 1308, 1309, 1310, 1311, 1312, 1313, 1314, 1315, 1316, 1317, 1318, 1319, 1320, 1321, 1322, 1323, 1324, 1325, 1326, 1327, 1328, 1329, 1330, 1331, 1332, 1333, 1334, 1335, 1336, 1337, 1338, 1339, 1340, 1341, 1342, 1343, 1344, 1345, 1346, 1347, 1348, 1349, 1350, 1351, 1352, 1353, 1354, 1355, 1356, 1357, 1358, 1359, 1360, 1361, 1362, 1363, 1364, 1365, 1366, 1367, 1368, 1369, 1370, 1371, 1372, 1373, 1374, 1375, 1376, 1377, 1378, 1379, 1380, 1381, 1382, 1383, 1384, 1385, 1386, 1387, 1388, 1389, 1390, 1391, 1392, 1393, 1394, 1395, 1396, 1397, 1398, 1399, 1400, 1401, 1402, 1403, 1404, 1405, 1406, 1407, 1408, 1409, 1410, 1411, 1412, 1413, 1414, 1415, 1416, 1417, 1418, 1419, 1420, 1421, 1422, 1423, 1424, 1425, 1426, 1427, 1428, 1429, 1430, 1431, 1432, 1433, 1434, 1435, 1436, 1437, 1438, 1439, 1440, 1441, 1442, 1443, 1444, 1445, 1446, 1447, 1448, 1449, 1450, 1451, 1452, 1453, 1454, 1455, 1456, 1457, 1458, 1459, 1460, 1461, 1462, 1463, 1464, 1465, 1466, 1467, 1468, 1469, 1470, 1471, 1472, 1473, 1474, 1475, 1476, 1477, 1478, 1479, 1480, 1481, 1482, 1483, 1484, 1485, 1486, 1487, 1488, 1489, 1490, 1491, 1492, 1493, 1494, 1495, 1496, 1497, 1498, 1499]\n",
      "[1500 1501 1502 1503 1504 1505 1506 1507 1508 1509 1510 1511 1512 1513\n",
      " 1514 1515 1516 1517 1518 1519 1520 1521 1522 1523 1524 1525 1526 1527\n",
      " 1528 1529 1530 1531 1532 1533 1534 1535 1536 1537 1538 1539 1540 1541\n",
      " 1542 1543 1544 1545 1546 1547 1548 1549]\n",
      "[1550 1551 1552 1553 1554 1555 1556 1557 1558 1559 1560 1561 1562 1563\n",
      " 1564 1565 1566 1567 1568 1569 1570 1571 1572 1573 1574 1575 1576 1577\n",
      " 1578 1579 1580 1581 1582 1583 1584 1585 1586 1587 1588 1589 1590 1591\n",
      " 1592 1593 1594 1595 1596 1597 1598 1599]\n",
      "[1600 1601 1602 1603 1604 1605 1606 1607 1608 1609 1610 1611 1612 1613\n",
      " 1614 1615 1616 1617 1618 1619 1620 1621 1622 1623 1624 1625 1626 1627\n",
      " 1628 1629 1630 1631 1632 1633 1634 1635 1636 1637 1638 1639 1640 1641\n",
      " 1642 1643 1644 1645 1646 1647 1648 1649]\n",
      "[1650 1651 1652 1653 1654 1655 1656 1657 1658 1659 1660 1661 1662 1663\n",
      " 1664 1665 1666 1667 1668 1669 1670 1671 1672 1673 1674 1675 1676 1677\n",
      " 1678 1679 1680 1681 1682 1683 1684 1685 1686 1687 1688 1689 1690 1691\n",
      " 1692 1693 1694 1695 1696 1697 1698 1699]\n",
      "[1700 1701 1702 1703 1704 1705 1706 1707 1708 1709 1710 1711 1712 1713\n",
      " 1714 1715 1716 1717 1718 1719 1720 1721 1722 1723 1724 1725 1726 1727\n",
      " 1728 1729 1730 1731 1732 1733 1734 1735 1736 1737 1738 1739 1740 1741\n",
      " 1742 1743 1744 1745 1746 1747 1748 1749]\n",
      "[1750 1751 1752 1753 1754 1755 1756 1757 1758 1759 1760 1761 1762 1763\n",
      " 1764 1765 1766 1767 1768 1769 1770 1771 1772 1773 1774 1775 1776 1777\n",
      " 1778 1779 1780 1781 1782 1783 1784 1785 1786 1787 1788 1789 1790 1791\n",
      " 1792 1793 1794 1795 1796 1797 1798 1799]\n",
      "[1800 1801 1802 1803 1804 1805 1806 1807 1808 1809 1810 1811 1812 1813\n",
      " 1814 1815 1816 1817 1818 1819 1820 1821 1822 1823 1824 1825 1826 1827\n",
      " 1828 1829 1830 1831 1832 1833 1834 1835 1836 1837 1838 1839 1840 1841\n",
      " 1842 1843 1844 1845 1846 1847 1848 1849]\n",
      "[1850 1851 1852 1853 1854 1855 1856 1857 1858 1859 1860 1861 1862 1863\n",
      " 1864 1865 1866 1867 1868 1869 1870 1871 1872 1873 1874 1875 1876 1877\n",
      " 1878 1879 1880 1881 1882 1883 1884 1885 1886 1887 1888 1889 1890 1891\n",
      " 1892 1893 1894 1895 1896 1897 1898 1899]\n",
      "[1900 1901 1902 1903 1904 1905 1906 1907 1908 1909 1910 1911 1912 1913\n",
      " 1914 1915 1916 1917 1918 1919 1920 1921 1922 1923 1924 1925 1926 1927\n",
      " 1928 1929 1930 1931 1932 1933 1934 1935 1936 1937 1938 1939 1940 1941\n",
      " 1942 1943 1944 1945 1946 1947 1948 1949]\n",
      "[1950 1951 1952 1953 1954 1955 1956 1957 1958 1959 1960 1961 1962 1963\n",
      " 1964 1965 1966 1967 1968 1969 1970 1971 1972 1973 1974 1975 1976 1977\n",
      " 1978 1979 1980 1981 1982 1983 1984 1985 1986 1987 1988 1989 1990 1991\n",
      " 1992 1993 1994 1995 1996 1997 1998 1999]\n",
      "Gurobi Optimizer version 12.0.1 build v12.0.1rc0 (win64 - Windows 10.0 (19045.2))\n",
      "\n",
      "CPU model: Intel(R) Core(TM) i5-10200H CPU @ 2.40GHz, instruction set [SSE2|AVX|AVX2]\n",
      "Thread count: 4 physical cores, 8 logical processors, using up to 8 threads\n",
      "\n",
      "Optimize a model with 12 rows, 2000 columns and 4000 nonzeros\n",
      "Model fingerprint: 0x2f0892ac\n",
      "Variable types: 0 continuous, 2000 integer (2000 binary)\n",
      "Coefficient statistics:\n",
      "  Matrix range     [1e+00, 1e+00]\n",
      "  Objective range  [1e+00, 1e+00]\n",
      "  Bounds range     [1e+00, 1e+00]\n",
      "  RHS range        [1e+00, 3e+01]\n",
      "Found heuristic solution: objective 30.0000000\n",
      "Presolve removed 12 rows and 2000 columns\n",
      "Presolve time: 0.00s\n",
      "Presolve: All rows and columns removed\n",
      "\n",
      "Explored 0 nodes (0 simplex iterations) in 0.01 seconds (0.00 work units)\n",
      "Thread count was 1 (of 8 available processors)\n",
      "\n",
      "Solution count 1: 30 \n",
      "\n",
      "Optimal solution found (tolerance 1.00e-04)\n",
      "Best objective 3.000000000000e+01, best bound 3.000000000000e+01, gap 0.0000%\n"
     ]
    }
   ],
   "source": [
    "solution = FMMDS(ifdm[1], K, 0.05, ifdm[2])"
   ]
  },
  {
   "cell_type": "code",
   "execution_count": 259,
   "metadata": {},
   "outputs": [
    {
     "data": {
      "text/plain": [
       "array([ 480,  481,  482,  483,  484,  485,  486,  487,  488,  489,  490,\n",
       "        491,  492,  493,  494,  495,  496,  497,  498,  499, 1500, 1550,\n",
       "       1600, 1650, 1700, 1750, 1800, 1850, 1900, 1950])"
      ]
     },
     "execution_count": 259,
     "metadata": {},
     "output_type": "execute_result"
    }
   ],
   "source": [
    "solution"
   ]
  },
  {
   "cell_type": "code",
   "execution_count": 260,
   "metadata": {},
   "outputs": [
    {
     "data": {
      "text/plain": [
       "0.024494390049112726"
      ]
     },
     "execution_count": 260,
     "metadata": {},
     "output_type": "execute_result"
    }
   ],
   "source": [
    "MaxMinDiversity(solution, ifdm[2])"
   ]
  },
  {
   "cell_type": "code",
   "execution_count": 261,
   "metadata": {},
   "outputs": [],
   "source": [
    "real_sol = SOL(solution, ifdm[3], complete)"
   ]
  },
  {
   "cell_type": "code",
   "execution_count": 262,
   "metadata": {},
   "outputs": [
    {
     "data": {
      "text/plain": [
       "0.024494390049112726"
      ]
     },
     "execution_count": 262,
     "metadata": {},
     "output_type": "execute_result"
    }
   ],
   "source": [
    "MaxMinDiversity(real_sol, complete)"
   ]
  },
  {
   "cell_type": "code",
   "execution_count": null,
   "metadata": {},
   "outputs": [],
   "source": []
  },
  {
   "cell_type": "code",
   "execution_count": null,
   "metadata": {},
   "outputs": [],
   "source": []
  }
 ],
 "metadata": {
  "kernelspec": {
   "display_name": "coresets",
   "language": "python",
   "name": "python3"
  },
  "language_info": {
   "codemirror_mode": {
    "name": "ipython",
    "version": 3
   },
   "file_extension": ".py",
   "mimetype": "text/x-python",
   "name": "python",
   "nbconvert_exporter": "python",
   "pygments_lexer": "ipython3",
   "version": "3.9.19"
  }
 },
 "nbformat": 4,
 "nbformat_minor": 2
}
